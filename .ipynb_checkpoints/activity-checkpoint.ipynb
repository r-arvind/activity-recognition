{
 "cells": [
  {
   "cell_type": "code",
   "execution_count": 35,
   "metadata": {},
   "outputs": [],
   "source": [
    "import numpy as np\n",
    "import pandas as pd\n",
    "from keras.models import Sequential\n",
    "from keras.layers import Dense, LSTM\n",
    "import matplotlib.pyplot as plt\n",
    "import warnings\n",
    "import os\n",
    "warnings.filterwarnings(\"ignore\")"
   ]
  },
  {
   "cell_type": "markdown",
   "metadata": {},
   "source": [
    "## Dataset Pre-processing"
   ]
  },
  {
   "cell_type": "code",
   "execution_count": 64,
   "metadata": {},
   "outputs": [],
   "source": [
    "TASKS = [\"climbing\",\"jumping\",\"running\"]\n",
    "LABELS = {\n",
    "    \"climbing\" : 1,\n",
    "    \"jumping\" : 2,\n",
    "    \"running\" : 3,\n",
    "}\n",
    "SENSORS = [\"Accelerometer\",\"Gyroscope\"]\n",
    "dataset_path = \"dataset/train/\""
   ]
  },
  {
   "cell_type": "code",
   "execution_count": 65,
   "metadata": {},
   "outputs": [],
   "source": [
    "data = {}\n",
    "for sensors in SENSORS:\n",
    "    data[sensors] = []\n",
    "for vals in TASKS:\n",
    "    sub_dirs = [x for x in os.walk(dataset_path + vals)]\n",
    "    datapoints = sub_dirs[0][1]\n",
    "    for pts in datapoints:\n",
    "        for sensors in SENSORS:\n",
    "            file_path = dataset_path + vals + \"/\" + pts + \"/\" +sensors + \".csv\"\n",
    "            df = pd.read_csv(file_path)\n",
    "            df[\"Label\"] = LABELS[vals]\n",
    "            data[sensors].append(df)"
   ]
  },
  {
   "cell_type": "code",
   "execution_count": 66,
   "metadata": {},
   "outputs": [],
   "source": [
    "acc = data[\"Accelerometer\"]\n",
    "gyro = data[\"Gyroscope\"]"
   ]
  },
  {
   "cell_type": "code",
   "execution_count": 67,
   "metadata": {},
   "outputs": [
    {
     "name": "stdout",
     "output_type": "stream",
     "text": [
      "(3025, 6) (3034, 6)\n",
      "(2428, 6) (2437, 6)\n",
      "(3210, 6) (3221, 6)\n",
      "(1809, 6) (1825, 6)\n",
      "(2185, 6) (2203, 6)\n",
      "(1747, 6) (1763, 6)\n",
      "(1849, 6) (1867, 6)\n",
      "(3025, 6) (3034, 6)\n",
      "(2428, 6) (2437, 6)\n",
      "(3210, 6) (3221, 6)\n"
     ]
    }
   ],
   "source": [
    "for i in range(len(acc)):\n",
    "    print(acc[i].shape,gyro[i].shape)"
   ]
  },
  {
   "cell_type": "code",
   "execution_count": 68,
   "metadata": {},
   "outputs": [],
   "source": [
    "for i in range(len(acc)):\n",
    "    length = min(acc[i].shape[0],gyro[i].shape[0])\n",
    "    acc[i] = acc[i][:length]\n",
    "    gyro[i] = gyro[i][:length]"
   ]
  },
  {
   "cell_type": "code",
   "execution_count": 76,
   "metadata": {},
   "outputs": [
    {
     "name": "stdout",
     "output_type": "stream",
     "text": [
      "22916\n"
     ]
    }
   ],
   "source": [
    "a = 0\n",
    "N = 50\n",
    "for i in range(len(acc)):\n",
    "    acc[i] = acc[i][N:-N]\n",
    "    gyro[i] = gyro[i][N:-N]\n",
    "    a = a + acc[i].shape[0]\n",
    "print(a)"
   ]
  },
  {
   "cell_type": "code",
   "execution_count": 77,
   "metadata": {},
   "outputs": [],
   "source": [
    "dfa = pd.concat(acc)\n",
    "dfg = pd.concat(gyro)"
   ]
  },
  {
   "cell_type": "code",
   "execution_count": 86,
   "metadata": {},
   "outputs": [
    {
     "data": {
      "text/html": [
       "<div>\n",
       "<style scoped>\n",
       "    .dataframe tbody tr th:only-of-type {\n",
       "        vertical-align: middle;\n",
       "    }\n",
       "\n",
       "    .dataframe tbody tr th {\n",
       "        vertical-align: top;\n",
       "    }\n",
       "\n",
       "    .dataframe thead th {\n",
       "        text-align: right;\n",
       "    }\n",
       "</style>\n",
       "<table border=\"1\" class=\"dataframe\">\n",
       "  <thead>\n",
       "    <tr style=\"text-align: right;\">\n",
       "      <th></th>\n",
       "      <th>Z</th>\n",
       "      <th>Label</th>\n",
       "    </tr>\n",
       "  </thead>\n",
       "  <tbody>\n",
       "    <tr>\n",
       "      <th>0</th>\n",
       "      <td>-0.116301</td>\n",
       "      <td>1</td>\n",
       "    </tr>\n",
       "    <tr>\n",
       "      <th>1</th>\n",
       "      <td>-0.146844</td>\n",
       "      <td>1</td>\n",
       "    </tr>\n",
       "    <tr>\n",
       "      <th>2</th>\n",
       "      <td>-0.233587</td>\n",
       "      <td>1</td>\n",
       "    </tr>\n",
       "    <tr>\n",
       "      <th>3</th>\n",
       "      <td>-0.320330</td>\n",
       "      <td>1</td>\n",
       "    </tr>\n",
       "    <tr>\n",
       "      <th>4</th>\n",
       "      <td>-0.403407</td>\n",
       "      <td>1</td>\n",
       "    </tr>\n",
       "    <tr>\n",
       "      <th>...</th>\n",
       "      <td>...</td>\n",
       "      <td>...</td>\n",
       "    </tr>\n",
       "    <tr>\n",
       "      <th>22911</th>\n",
       "      <td>-0.310556</td>\n",
       "      <td>3</td>\n",
       "    </tr>\n",
       "    <tr>\n",
       "      <th>22912</th>\n",
       "      <td>-0.326438</td>\n",
       "      <td>3</td>\n",
       "    </tr>\n",
       "    <tr>\n",
       "      <th>22913</th>\n",
       "      <td>-0.321551</td>\n",
       "      <td>3</td>\n",
       "    </tr>\n",
       "    <tr>\n",
       "      <th>22914</th>\n",
       "      <td>-0.264130</td>\n",
       "      <td>3</td>\n",
       "    </tr>\n",
       "    <tr>\n",
       "      <th>22915</th>\n",
       "      <td>-0.228700</td>\n",
       "      <td>3</td>\n",
       "    </tr>\n",
       "  </tbody>\n",
       "</table>\n",
       "<p>22916 rows × 2 columns</p>\n",
       "</div>"
      ],
      "text/plain": [
       "              Z  Label\n",
       "0     -0.116301      1\n",
       "1     -0.146844      1\n",
       "2     -0.233587      1\n",
       "3     -0.320330      1\n",
       "4     -0.403407      1\n",
       "...         ...    ...\n",
       "22911 -0.310556      3\n",
       "22912 -0.326438      3\n",
       "22913 -0.321551      3\n",
       "22914 -0.264130      3\n",
       "22915 -0.228700      3\n",
       "\n",
       "[22916 rows x 2 columns]"
      ]
     },
     "execution_count": 86,
     "metadata": {},
     "output_type": "execute_result"
    }
   ],
   "source": [
    "#dropping timestamps and milliseconds\n",
    "dfa.drop(dfa.columns[[\"Timestamp\",\"Milliseconds\"]],inplace=True,axis=1)\n",
    "dfg.drop(dfg.columns[[0,1]],inplace=True,axis=1)\n",
    "dfa.reset_index(drop=True)\n",
    "dfg.reset_index(drop=True)"
   ]
  },
  {
   "cell_type": "code",
   "execution_count": 87,
   "metadata": {},
   "outputs": [
    {
     "data": {
      "text/plain": [
       "Index(['Z', 'Label'], dtype='object')"
      ]
     },
     "execution_count": 87,
     "metadata": {},
     "output_type": "execute_result"
    }
   ],
   "source": [
    "dfa.columns"
   ]
  },
  {
   "cell_type": "code",
   "execution_count": null,
   "metadata": {},
   "outputs": [],
   "source": []
  },
  {
   "cell_type": "code",
   "execution_count": null,
   "metadata": {},
   "outputs": [],
   "source": []
  },
  {
   "cell_type": "code",
   "execution_count": 84,
   "metadata": {},
   "outputs": [],
   "source": [
    "def build_model(x_train, y_train):\n",
    "    \n",
    "    n_time_steps, n_features, n_outputs = x_train.shape[1], x_train.shape[2], y_train.shape[1]\n",
    "    \n",
    "    verbose, epochs, batch_size = 0, 70, 16\n",
    "    \n",
    "    model = Sequential()\n",
    "    model.add(LSTM(200, activation='relu', input_shape=(n_timesteps, n_features)))\n",
    "    model.add(Dense(100, activation='relu'))\n",
    "    model.add(Dense(n_outputs))\n",
    "    model.compile(loss='mse', optimizer='adam')\n",
    "\n",
    "    model.fit(x_train, y_train, epochs=epochs, batch_size=batch_size, verbose=verbose)\n"
   ]
  }
 ],
 "metadata": {
  "kernelspec": {
   "display_name": "Python 3",
   "language": "python",
   "name": "python3"
  },
  "language_info": {
   "codemirror_mode": {
    "name": "ipython",
    "version": 3
   },
   "file_extension": ".py",
   "mimetype": "text/x-python",
   "name": "python",
   "nbconvert_exporter": "python",
   "pygments_lexer": "ipython3",
   "version": "3.6.8"
  }
 },
 "nbformat": 4,
 "nbformat_minor": 2
}
