{
 "cells": [
  {
   "cell_type": "code",
   "execution_count": 17,
   "metadata": {},
   "outputs": [],
   "source": [
    "import numpy as np\n",
    "import pandas as pd\n",
    "from keras.models import Sequential\n",
    "from keras.layers import Dense, LSTM\n",
    "import matplotlib.pyplot as plt\n",
    "import warnings\n",
    "import os\n",
    "warnings.filterwarnings(\"ignore\")"
   ]
  },
  {
   "cell_type": "markdown",
   "metadata": {},
   "source": [
    "## Dataset Pre-processing"
   ]
  },
  {
   "cell_type": "code",
   "execution_count": 18,
   "metadata": {},
   "outputs": [],
   "source": [
    "TASKS = [\"climbing\",\"jumping\",\"running\"]\n",
    "LABELS = {\n",
    "    \"climbing\" : 1,\n",
    "    \"jumping\" : 2,\n",
    "    \"running\" : 3,\n",
    "}\n",
    "SENSORS = [\"Accelerometer\",\"Gyroscope\"]\n",
    "dataset_path = \"dataset/train/\""
   ]
  },
  {
   "cell_type": "code",
   "execution_count": 19,
   "metadata": {},
   "outputs": [],
   "source": [
    "data = {}\n",
    "for sensors in SENSORS:\n",
    "    data[sensors] = []\n",
    "for vals in TASKS:\n",
    "    sub_dirs = [x for x in os.walk(dataset_path + vals)]\n",
    "    datapoints = sub_dirs[0][1]\n",
    "    for pts in datapoints:\n",
    "        for sensors in SENSORS:\n",
    "            file_path = dataset_path + vals + \"/\" + pts + \"/\" +sensors + \".csv\"\n",
    "            df = pd.read_csv(file_path)\n",
    "            df[\"Label\"] = LABELS[vals]\n",
    "            data[sensors].append(df)"
   ]
  },
  {
   "cell_type": "code",
   "execution_count": 20,
   "metadata": {},
   "outputs": [],
   "source": [
    "acc = data[\"Accelerometer\"]\n",
    "gyro = data[\"Gyroscope\"]"
   ]
  },
  {
   "cell_type": "code",
   "execution_count": 21,
   "metadata": {},
   "outputs": [
    {
     "name": "stdout",
     "output_type": "stream",
     "text": [
      "(3025, 6) (3034, 6)\n",
      "(2428, 6) (2437, 6)\n",
      "(3210, 6) (3221, 6)\n",
      "(1809, 6) (1825, 6)\n",
      "(2185, 6) (2203, 6)\n",
      "(1747, 6) (1763, 6)\n",
      "(1849, 6) (1867, 6)\n",
      "(3025, 6) (3034, 6)\n",
      "(2428, 6) (2437, 6)\n",
      "(3210, 6) (3221, 6)\n"
     ]
    }
   ],
   "source": [
    "for i in range(len(acc)):\n",
    "    print(acc[i].shape,gyro[i].shape)"
   ]
  },
  {
   "cell_type": "code",
   "execution_count": 22,
   "metadata": {},
   "outputs": [],
   "source": [
    "for i in range(len(acc)):\n",
    "    length = min(acc[i].shape[0],gyro[i].shape[0])\n",
    "    acc[i] = acc[i][:length]\n",
    "    gyro[i] = gyro[i][:length]"
   ]
  },
  {
   "cell_type": "code",
   "execution_count": 23,
   "metadata": {},
   "outputs": [
    {
     "name": "stdout",
     "output_type": "stream",
     "text": [
      "23916\n"
     ]
    }
   ],
   "source": [
    "#Removing top and last 50 values\n",
    "a = 0\n",
    "N = 50\n",
    "for i in range(len(acc)):\n",
    "    acc[i] = acc[i][N:-N]\n",
    "    gyro[i] = gyro[i][N:-N]\n",
    "    a = a + acc[i].shape[0]\n",
    "print(a)"
   ]
  },
  {
   "cell_type": "code",
   "execution_count": 24,
   "metadata": {},
   "outputs": [],
   "source": [
    "dfa = pd.concat(acc)\n",
    "dfg = pd.concat(gyro)"
   ]
  },
  {
   "cell_type": "code",
   "execution_count": 25,
   "metadata": {},
   "outputs": [],
   "source": [
    "#dropping timestamps and milliseconds\n",
    "try:\n",
    "    dfa.drop(dfa[[\"Timestamp\",\"Milliseconds\"]],inplace=True,axis=1)\n",
    "    dfg.drop(dfg[[\"Timestamp\",\"Milliseconds\"]],inplace=True,axis=1)\n",
    "except:\n",
    "    pass\n",
    "dfa = dfa.reset_index(drop=True)\n",
    "dfg = dfg.reset_index(drop=True)"
   ]
  },
  {
   "cell_type": "code",
   "execution_count": 26,
   "metadata": {},
   "outputs": [],
   "source": [
    "dfa.columns = [\"ACCX\",\"ACCY\",\"ACCZ\",\"OUTPUT\"]\n",
    "dfg.columns = [\"GYROX\",\"GYROY\",\"GYROZ\",\"OUTPUT\"]"
   ]
  },
  {
   "cell_type": "code",
   "execution_count": 27,
   "metadata": {},
   "outputs": [
    {
     "data": {
      "text/html": [
       "<div>\n",
       "<style scoped>\n",
       "    .dataframe tbody tr th:only-of-type {\n",
       "        vertical-align: middle;\n",
       "    }\n",
       "\n",
       "    .dataframe tbody tr th {\n",
       "        vertical-align: top;\n",
       "    }\n",
       "\n",
       "    .dataframe thead th {\n",
       "        text-align: right;\n",
       "    }\n",
       "</style>\n",
       "<table border=\"1\" class=\"dataframe\">\n",
       "  <thead>\n",
       "    <tr style=\"text-align: right;\">\n",
       "      <th></th>\n",
       "      <th>ACCX</th>\n",
       "      <th>ACCY</th>\n",
       "      <th>ACCZ</th>\n",
       "      <th>OUTPUT</th>\n",
       "    </tr>\n",
       "  </thead>\n",
       "  <tbody>\n",
       "    <tr>\n",
       "      <th>23906</th>\n",
       "      <td>-2.042693</td>\n",
       "      <td>3.788111</td>\n",
       "      <td>11.212740</td>\n",
       "      <td>3</td>\n",
       "    </tr>\n",
       "    <tr>\n",
       "      <th>23907</th>\n",
       "      <td>-1.934959</td>\n",
       "      <td>3.898239</td>\n",
       "      <td>11.681983</td>\n",
       "      <td>3</td>\n",
       "    </tr>\n",
       "    <tr>\n",
       "      <th>23908</th>\n",
       "      <td>-1.867924</td>\n",
       "      <td>3.958092</td>\n",
       "      <td>12.175167</td>\n",
       "      <td>3</td>\n",
       "    </tr>\n",
       "    <tr>\n",
       "      <th>23909</th>\n",
       "      <td>-1.918200</td>\n",
       "      <td>3.850357</td>\n",
       "      <td>12.644411</td>\n",
       "      <td>3</td>\n",
       "    </tr>\n",
       "    <tr>\n",
       "      <th>23910</th>\n",
       "      <td>-1.990023</td>\n",
       "      <td>3.706711</td>\n",
       "      <td>12.929309</td>\n",
       "      <td>3</td>\n",
       "    </tr>\n",
       "    <tr>\n",
       "      <th>23911</th>\n",
       "      <td>-2.157610</td>\n",
       "      <td>3.462513</td>\n",
       "      <td>12.912550</td>\n",
       "      <td>3</td>\n",
       "    </tr>\n",
       "    <tr>\n",
       "      <th>23912</th>\n",
       "      <td>-2.581366</td>\n",
       "      <td>3.417025</td>\n",
       "      <td>12.704263</td>\n",
       "      <td>3</td>\n",
       "    </tr>\n",
       "    <tr>\n",
       "      <th>23913</th>\n",
       "      <td>-2.679524</td>\n",
       "      <td>3.713893</td>\n",
       "      <td>11.993216</td>\n",
       "      <td>3</td>\n",
       "    </tr>\n",
       "    <tr>\n",
       "      <th>23914</th>\n",
       "      <td>-2.435326</td>\n",
       "      <td>4.080191</td>\n",
       "      <td>11.181617</td>\n",
       "      <td>3</td>\n",
       "    </tr>\n",
       "    <tr>\n",
       "      <th>23915</th>\n",
       "      <td>-2.272527</td>\n",
       "      <td>4.293266</td>\n",
       "      <td>10.729132</td>\n",
       "      <td>3</td>\n",
       "    </tr>\n",
       "  </tbody>\n",
       "</table>\n",
       "</div>"
      ],
      "text/plain": [
       "           ACCX      ACCY       ACCZ  OUTPUT\n",
       "23906 -2.042693  3.788111  11.212740       3\n",
       "23907 -1.934959  3.898239  11.681983       3\n",
       "23908 -1.867924  3.958092  12.175167       3\n",
       "23909 -1.918200  3.850357  12.644411       3\n",
       "23910 -1.990023  3.706711  12.929309       3\n",
       "23911 -2.157610  3.462513  12.912550       3\n",
       "23912 -2.581366  3.417025  12.704263       3\n",
       "23913 -2.679524  3.713893  11.993216       3\n",
       "23914 -2.435326  4.080191  11.181617       3\n",
       "23915 -2.272527  4.293266  10.729132       3"
      ]
     },
     "execution_count": 27,
     "metadata": {},
     "output_type": "execute_result"
    }
   ],
   "source": [
    "dfa.tail(10)"
   ]
  },
  {
   "cell_type": "code",
   "execution_count": 28,
   "metadata": {},
   "outputs": [
    {
     "name": "stdout",
     "output_type": "stream",
     "text": [
      "Merging Tables\n"
     ]
    },
    {
     "data": {
      "text/html": [
       "<div>\n",
       "<style scoped>\n",
       "    .dataframe tbody tr th:only-of-type {\n",
       "        vertical-align: middle;\n",
       "    }\n",
       "\n",
       "    .dataframe tbody tr th {\n",
       "        vertical-align: top;\n",
       "    }\n",
       "\n",
       "    .dataframe thead th {\n",
       "        text-align: right;\n",
       "    }\n",
       "</style>\n",
       "<table border=\"1\" class=\"dataframe\">\n",
       "  <thead>\n",
       "    <tr style=\"text-align: right;\">\n",
       "      <th></th>\n",
       "      <th>ACCX</th>\n",
       "      <th>ACCY</th>\n",
       "      <th>ACCZ</th>\n",
       "      <th>GYROX</th>\n",
       "      <th>GYROY</th>\n",
       "      <th>GYROZ</th>\n",
       "      <th>OUTPUT</th>\n",
       "    </tr>\n",
       "  </thead>\n",
       "  <tbody>\n",
       "    <tr>\n",
       "      <th>0</th>\n",
       "      <td>4.780488</td>\n",
       "      <td>3.426602</td>\n",
       "      <td>5.378321</td>\n",
       "      <td>0.502612</td>\n",
       "      <td>-0.841168</td>\n",
       "      <td>1.029681</td>\n",
       "      <td>1</td>\n",
       "    </tr>\n",
       "    <tr>\n",
       "      <th>1</th>\n",
       "      <td>5.252126</td>\n",
       "      <td>3.907815</td>\n",
       "      <td>4.937807</td>\n",
       "      <td>-0.060605</td>\n",
       "      <td>-0.869268</td>\n",
       "      <td>0.892848</td>\n",
       "      <td>1</td>\n",
       "    </tr>\n",
       "    <tr>\n",
       "      <th>2</th>\n",
       "      <td>5.546600</td>\n",
       "      <td>4.197502</td>\n",
       "      <td>5.086241</td>\n",
       "      <td>-0.292734</td>\n",
       "      <td>-0.903476</td>\n",
       "      <td>0.842757</td>\n",
       "      <td>1</td>\n",
       "    </tr>\n",
       "    <tr>\n",
       "      <th>3</th>\n",
       "      <td>5.173121</td>\n",
       "      <td>3.922180</td>\n",
       "      <td>5.493238</td>\n",
       "      <td>-0.743552</td>\n",
       "      <td>-1.031758</td>\n",
       "      <td>0.767010</td>\n",
       "      <td>1</td>\n",
       "    </tr>\n",
       "    <tr>\n",
       "      <th>4</th>\n",
       "      <td>4.349551</td>\n",
       "      <td>3.206344</td>\n",
       "      <td>7.164319</td>\n",
       "      <td>-1.178488</td>\n",
       "      <td>-1.492350</td>\n",
       "      <td>0.832983</td>\n",
       "      <td>1</td>\n",
       "    </tr>\n",
       "    <tr>\n",
       "      <th>...</th>\n",
       "      <td>...</td>\n",
       "      <td>...</td>\n",
       "      <td>...</td>\n",
       "      <td>...</td>\n",
       "      <td>...</td>\n",
       "      <td>...</td>\n",
       "      <td>...</td>\n",
       "    </tr>\n",
       "    <tr>\n",
       "      <th>95</th>\n",
       "      <td>4.526714</td>\n",
       "      <td>3.270985</td>\n",
       "      <td>6.103733</td>\n",
       "      <td>-0.775317</td>\n",
       "      <td>0.076351</td>\n",
       "      <td>-0.597662</td>\n",
       "      <td>1</td>\n",
       "    </tr>\n",
       "    <tr>\n",
       "      <th>96</th>\n",
       "      <td>4.603325</td>\n",
       "      <td>3.503213</td>\n",
       "      <td>6.867450</td>\n",
       "      <td>-0.686131</td>\n",
       "      <td>-0.225416</td>\n",
       "      <td>-0.386303</td>\n",
       "      <td>1</td>\n",
       "    </tr>\n",
       "    <tr>\n",
       "      <th>97</th>\n",
       "      <td>4.770912</td>\n",
       "      <td>3.790505</td>\n",
       "      <td>7.683838</td>\n",
       "      <td>-0.548075</td>\n",
       "      <td>-0.430667</td>\n",
       "      <td>-0.236030</td>\n",
       "      <td>1</td>\n",
       "    </tr>\n",
       "    <tr>\n",
       "      <th>98</th>\n",
       "      <td>5.304796</td>\n",
       "      <td>4.247777</td>\n",
       "      <td>8.658236</td>\n",
       "      <td>-0.372146</td>\n",
       "      <td>-0.601709</td>\n",
       "      <td>-0.112636</td>\n",
       "      <td>1</td>\n",
       "    </tr>\n",
       "    <tr>\n",
       "      <th>99</th>\n",
       "      <td>5.627999</td>\n",
       "      <td>4.559011</td>\n",
       "      <td>9.113115</td>\n",
       "      <td>-0.190109</td>\n",
       "      <td>-0.711665</td>\n",
       "      <td>-0.023449</td>\n",
       "      <td>1</td>\n",
       "    </tr>\n",
       "  </tbody>\n",
       "</table>\n",
       "<p>100 rows × 7 columns</p>\n",
       "</div>"
      ],
      "text/plain": [
       "        ACCX      ACCY      ACCZ     GYROX     GYROY     GYROZ  OUTPUT\n",
       "0   4.780488  3.426602  5.378321  0.502612 -0.841168  1.029681       1\n",
       "1   5.252126  3.907815  4.937807 -0.060605 -0.869268  0.892848       1\n",
       "2   5.546600  4.197502  5.086241 -0.292734 -0.903476  0.842757       1\n",
       "3   5.173121  3.922180  5.493238 -0.743552 -1.031758  0.767010       1\n",
       "4   4.349551  3.206344  7.164319 -1.178488 -1.492350  0.832983       1\n",
       "..       ...       ...       ...       ...       ...       ...     ...\n",
       "95  4.526714  3.270985  6.103733 -0.775317  0.076351 -0.597662       1\n",
       "96  4.603325  3.503213  6.867450 -0.686131 -0.225416 -0.386303       1\n",
       "97  4.770912  3.790505  7.683838 -0.548075 -0.430667 -0.236030       1\n",
       "98  5.304796  4.247777  8.658236 -0.372146 -0.601709 -0.112636       1\n",
       "99  5.627999  4.559011  9.113115 -0.190109 -0.711665 -0.023449       1\n",
       "\n",
       "[100 rows x 7 columns]"
      ]
     },
     "execution_count": 28,
     "metadata": {},
     "output_type": "execute_result"
    }
   ],
   "source": [
    "df = \"\"\n",
    "if(dfg['OUTPUT'].equals(dfa[\"OUTPUT\"])):\n",
    "    print(\"Merging Tables\")\n",
    "    dfa.drop(dfa[[\"OUTPUT\"]],axis=1,inplace=True)\n",
    "    df = pd.concat([dfa,dfg],axis=1)\n",
    "else:\n",
    "    print(\"Error in merging tables\")\n",
    "df.head(100)"
   ]
  },
  {
   "cell_type": "code",
   "execution_count": 30,
   "metadata": {},
   "outputs": [
    {
     "data": {
      "text/plain": [
       "(23916, 7)"
      ]
     },
     "execution_count": 30,
     "metadata": {},
     "output_type": "execute_result"
    }
   ],
   "source": [
    "df.shape"
   ]
  },
  {
   "cell_type": "code",
   "execution_count": null,
   "metadata": {},
   "outputs": [],
   "source": []
  },
  {
   "cell_type": "code",
   "execution_count": null,
   "metadata": {},
   "outputs": [],
   "source": []
  },
  {
   "cell_type": "code",
   "execution_count": null,
   "metadata": {},
   "outputs": [],
   "source": []
  },
  {
   "cell_type": "code",
   "execution_count": 84,
   "metadata": {},
   "outputs": [],
   "source": [
    "def build_model(x_train, y_train):\n",
    "    \n",
    "    n_time_steps, n_features, n_outputs = x_train.shape[1], x_train.shape[2], y_train.shape[1]\n",
    "    \n",
    "    verbose, epochs, batch_size = 0, 70, 16\n",
    "    \n",
    "    model = Sequential()\n",
    "    model.add(LSTM(200, activation='relu', input_shape=(n_timesteps, n_features)))\n",
    "    model.add(Dense(100, activation='relu'))\n",
    "    model.add(Dense(n_outputs))\n",
    "    model.compile(loss='mse', optimizer='adam')\n",
    "\n",
    "    model.fit(x_train, y_train, epochs=epochs, batch_size=batch_size, verbose=verbose)\n"
   ]
  }
 ],
 "metadata": {
  "kernelspec": {
   "display_name": "Python 3",
   "language": "python",
   "name": "python3"
  },
  "language_info": {
   "codemirror_mode": {
    "name": "ipython",
    "version": 3
   },
   "file_extension": ".py",
   "mimetype": "text/x-python",
   "name": "python",
   "nbconvert_exporter": "python",
   "pygments_lexer": "ipython3",
   "version": "3.6.8"
  }
 },
 "nbformat": 4,
 "nbformat_minor": 2
}
