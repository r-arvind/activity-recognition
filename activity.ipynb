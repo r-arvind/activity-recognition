{
 "cells": [
  {
   "cell_type": "code",
   "execution_count": 38,
   "metadata": {},
   "outputs": [],
   "source": [
    "import numpy as np\n",
    "import pandas as pd\n",
    "from keras.models import Sequential\n",
    "from keras.layers import Dense, LSTM\n",
    "import matplotlib.pyplot as plt\n",
    "import warnings\n",
    "import os\n",
    "warnings.filterwarnings(\"ignore\")"
   ]
  },
  {
   "cell_type": "markdown",
   "metadata": {},
   "source": [
    "## Dataset Pre-processing"
   ]
  },
  {
   "cell_type": "code",
   "execution_count": 73,
   "metadata": {},
   "outputs": [],
   "source": [
    "TASKS = [\"climbing\",\"jumping\",\"running\"]\n",
    "LABELS = {\n",
    "    \"climbing\" : 1,\n",
    "    \"jumping\" : 2,\n",
    "    \"running\" : 3,\n",
    "}\n",
    "SENSORS = [\"Accelerometer\",\"Gyroscope\"]\n",
    "dataset_path = \"dataset/train/\""
   ]
  },
  {
   "cell_type": "code",
   "execution_count": 83,
   "metadata": {},
   "outputs": [],
   "source": [
    "data = {}\n",
    "for sensors in SENSORS:\n",
    "    data[sensors] = []\n",
    "for vals in TASKS:\n",
    "    sub_dirs = [x for x in os.walk(dataset_path + vals)]\n",
    "    datapoints = sub_dirs[0][1]\n",
    "    for pts in datapoints:\n",
    "        for sensors in SENSORS:\n",
    "            file_path = dataset_path + vals + \"/\" + pts + \"/\" +sensors + \".csv\"\n",
    "            df = pd.read_csv(file_path)\n",
    "            df[\"Label\"] = LABELS[vals]\n",
    "            data[sensors].append(df)"
   ]
  },
  {
   "cell_type": "code",
   "execution_count": 84,
   "metadata": {},
   "outputs": [],
   "source": []
  }
 ],
 "metadata": {
  "kernelspec": {
   "display_name": "Python 3",
   "language": "python",
   "name": "python3"
  },
  "language_info": {
   "codemirror_mode": {
    "name": "ipython",
    "version": 3
   },
   "file_extension": ".py",
   "mimetype": "text/x-python",
   "name": "python",
   "nbconvert_exporter": "python",
   "pygments_lexer": "ipython3",
   "version": "3.6.8"
  }
 },
 "nbformat": 4,
 "nbformat_minor": 2
}
